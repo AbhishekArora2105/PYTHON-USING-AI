{
 "cells": [
  {
   "cell_type": "markdown",
   "id": "f64f2796",
   "metadata": {},
   "source": [
    "At the start of the day you have a checklist The tasks which you were able to finish, should get added to completed_tasks The tasks which you were not able to finish, should get added to incomplete_tasks This project is about organizing your daily tasks into two categories: completed tasks and incomplete tasks. Here’s how it works: 1. At the start of the day, you create a checklist of tasks you want to accomplish. 2. At the end of the day, you review which tasks you could finish and which you couldn’t. – If a task is finished, you move it to the completed tasks list. – If a task is not finished, you move it to the incomplete tasks list. This way, by the end of each day, you’ll have a clear overview of what you completed and what still needs attention."
   ]
  },
  {
   "cell_type": "code",
   "execution_count": null,
   "id": "f2926aa3",
   "metadata": {},
   "outputs": [],
   "source": [
    "checklist = [\"Grocery shopping\",\n",
    "    \"Finish report\",\n",
    "    \"Go for a run\",\n",
    "    \"Read a book for 30 minutes\",\n",
    "    \"Plan meals for the week\"]\n",
    "\n",
    "completed_tasks = []\n",
    "uncompleted_tasks = []\n",
    "\n",
    "for task in checklist:\n",
    "    while True:\n",
    "        response = input(f\"If you have completed {task} task\").lower().strip()\n",
    "        \n",
    "        if response in [ \"yes\" , \"no\"]:\n",
    "            break\n",
    "        else:\n",
    "            print(\"Invalid response\")\n",
    "    \n",
    "    if(response == \"yes\"):\n",
    "        completed_tasks.append(task)\n",
    "    else:\n",
    "        uncompleted_tasks.append(task)\n",
    "\n",
    "\n",
    "\n",
    "\n"
   ]
  },
  {
   "cell_type": "code",
   "execution_count": 3,
   "id": "ad1413cf",
   "metadata": {},
   "outputs": [
    {
     "data": {
      "text/plain": [
       "['Grocery shopping',\n",
       " 'Finish report',\n",
       " 'Read a book for 30 minutes',\n",
       " 'Plan meals for the week']"
      ]
     },
     "execution_count": 3,
     "metadata": {},
     "output_type": "execute_result"
    }
   ],
   "source": [
    "completed_tasks\n"
   ]
  },
  {
   "cell_type": "code",
   "execution_count": 4,
   "id": "611d334c",
   "metadata": {},
   "outputs": [
    {
     "data": {
      "text/plain": [
       "['Go for a run']"
      ]
     },
     "execution_count": 4,
     "metadata": {},
     "output_type": "execute_result"
    }
   ],
   "source": [
    "uncompleted_tasks"
   ]
  },
  {
   "cell_type": "code",
   "execution_count": null,
   "id": "130d1603",
   "metadata": {},
   "outputs": [],
   "source": []
  }
 ],
 "metadata": {
  "kernelspec": {
   "display_name": "Python 3",
   "language": "python",
   "name": "python3"
  },
  "language_info": {
   "codemirror_mode": {
    "name": "ipython",
    "version": 3
   },
   "file_extension": ".py",
   "mimetype": "text/x-python",
   "name": "python",
   "nbconvert_exporter": "python",
   "pygments_lexer": "ipython3",
   "version": "3.12.1"
  }
 },
 "nbformat": 4,
 "nbformat_minor": 5
}
