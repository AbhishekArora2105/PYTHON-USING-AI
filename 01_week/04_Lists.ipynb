{
 "cells": [
  {
   "cell_type": "markdown",
   "id": "eb29c4a5",
   "metadata": {},
   "source": [
    "Creating Lists"
   ]
  },
  {
   "cell_type": "code",
   "execution_count": 1,
   "id": "0f88a00b",
   "metadata": {},
   "outputs": [],
   "source": [
    "items = [\"speaker\" , \"mic\", \"mobile\"]"
   ]
  },
  {
   "cell_type": "code",
   "execution_count": 3,
   "id": "d092e225",
   "metadata": {},
   "outputs": [
    {
     "data": {
      "text/plain": [
       "'mic'"
      ]
     },
     "execution_count": 3,
     "metadata": {},
     "output_type": "execute_result"
    }
   ],
   "source": [
    "items[1]"
   ]
  },
  {
   "cell_type": "code",
   "execution_count": 4,
   "id": "45500129",
   "metadata": {},
   "outputs": [
    {
     "data": {
      "text/plain": [
       "'mobile'"
      ]
     },
     "execution_count": 4,
     "metadata": {},
     "output_type": "execute_result"
    }
   ],
   "source": [
    "items[-1]"
   ]
  },
  {
   "cell_type": "code",
   "execution_count": 6,
   "id": "a6671d8b",
   "metadata": {},
   "outputs": [],
   "source": [
    "##Slicing a list"
   ]
  },
  {
   "cell_type": "code",
   "execution_count": 7,
   "id": "dd75bb9d",
   "metadata": {},
   "outputs": [
    {
     "data": {
      "text/plain": [
       "['speaker', 'mic', 'mobile']"
      ]
     },
     "execution_count": 7,
     "metadata": {},
     "output_type": "execute_result"
    }
   ],
   "source": [
    "items[0:3]"
   ]
  },
  {
   "cell_type": "code",
   "execution_count": 8,
   "id": "bcc394ca",
   "metadata": {},
   "outputs": [
    {
     "data": {
      "text/plain": [
       "['mic', 'mobile']"
      ]
     },
     "execution_count": 8,
     "metadata": {},
     "output_type": "execute_result"
    }
   ],
   "source": [
    "items[1:3]"
   ]
  },
  {
   "cell_type": "markdown",
   "id": "540caa88",
   "metadata": {},
   "source": [
    "Modifying list"
   ]
  },
  {
   "cell_type": "code",
   "execution_count": 9,
   "id": "9032db40",
   "metadata": {},
   "outputs": [],
   "source": [
    "items[2]= \"pc\""
   ]
  },
  {
   "cell_type": "code",
   "execution_count": 10,
   "id": "0ee12e5a",
   "metadata": {},
   "outputs": [
    {
     "data": {
      "text/plain": [
       "['speaker', 'mic', 'pc']"
      ]
     },
     "execution_count": 10,
     "metadata": {},
     "output_type": "execute_result"
    }
   ],
   "source": [
    "items"
   ]
  },
  {
   "cell_type": "code",
   "execution_count": 11,
   "id": "697aa41a",
   "metadata": {},
   "outputs": [],
   "source": [
    "items.append(\"camera\")"
   ]
  },
  {
   "cell_type": "code",
   "execution_count": 12,
   "id": "824b8924",
   "metadata": {},
   "outputs": [
    {
     "data": {
      "text/plain": [
       "['speaker', 'mic', 'pc', 'camera']"
      ]
     },
     "execution_count": 12,
     "metadata": {},
     "output_type": "execute_result"
    }
   ],
   "source": [
    "items"
   ]
  },
  {
   "cell_type": "code",
   "execution_count": 13,
   "id": "9f106d7d",
   "metadata": {},
   "outputs": [],
   "source": [
    "items.remove(\"camera\")"
   ]
  },
  {
   "cell_type": "code",
   "execution_count": 14,
   "id": "15476382",
   "metadata": {},
   "outputs": [
    {
     "data": {
      "text/plain": [
       "['speaker', 'mic', 'pc']"
      ]
     },
     "execution_count": 14,
     "metadata": {},
     "output_type": "execute_result"
    }
   ],
   "source": [
    "items"
   ]
  },
  {
   "cell_type": "code",
   "execution_count": 15,
   "id": "6c436eb1",
   "metadata": {},
   "outputs": [],
   "source": [
    "items.clear()"
   ]
  },
  {
   "cell_type": "code",
   "execution_count": 16,
   "id": "11c8e33b",
   "metadata": {},
   "outputs": [
    {
     "data": {
      "text/plain": [
       "[]"
      ]
     },
     "execution_count": 16,
     "metadata": {},
     "output_type": "execute_result"
    }
   ],
   "source": [
    "items"
   ]
  },
  {
   "cell_type": "code",
   "execution_count": null,
   "id": "f1006ea8",
   "metadata": {},
   "outputs": [],
   "source": []
  }
 ],
 "metadata": {
  "kernelspec": {
   "display_name": "Python 3",
   "language": "python",
   "name": "python3"
  },
  "language_info": {
   "codemirror_mode": {
    "name": "ipython",
    "version": 3
   },
   "file_extension": ".py",
   "mimetype": "text/x-python",
   "name": "python",
   "nbconvert_exporter": "python",
   "pygments_lexer": "ipython3",
   "version": "3.12.1"
  }
 },
 "nbformat": 4,
 "nbformat_minor": 5
}
