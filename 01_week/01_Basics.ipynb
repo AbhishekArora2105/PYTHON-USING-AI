{
 "cells": [
  {
   "cell_type": "code",
   "execution_count": 1,
   "id": "9b0b28f8",
   "metadata": {},
   "outputs": [
    {
     "name": "stdout",
     "output_type": "stream",
     "text": [
      "Hello world\n"
     ]
    }
   ],
   "source": [
    "print(\"Hello world\")"
   ]
  },
  {
   "cell_type": "code",
   "execution_count": null,
   "id": "64f60e74",
   "metadata": {},
   "outputs": [],
   "source": [
    "# data types : int , float , bool , str "
   ]
  },
  {
   "cell_type": "code",
   "execution_count": 2,
   "id": "aff3ccef",
   "metadata": {},
   "outputs": [],
   "source": [
    "#Variables\n",
    "virat = 60\n",
    "rahul = 30\n",
    "rohit = 10"
   ]
  },
  {
   "cell_type": "code",
   "execution_count": 3,
   "id": "4ca30c64",
   "metadata": {},
   "outputs": [
    {
     "data": {
      "text/plain": [
       "60"
      ]
     },
     "execution_count": 3,
     "metadata": {},
     "output_type": "execute_result"
    }
   ],
   "source": [
    "virat"
   ]
  },
  {
   "cell_type": "code",
   "execution_count": 4,
   "id": "351b087e",
   "metadata": {},
   "outputs": [],
   "source": [
    "x , y , z = 1 , 2, 3"
   ]
  },
  {
   "cell_type": "code",
   "execution_count": 5,
   "id": "fb22456a",
   "metadata": {},
   "outputs": [
    {
     "data": {
      "text/plain": [
       "1"
      ]
     },
     "execution_count": 5,
     "metadata": {},
     "output_type": "execute_result"
    }
   ],
   "source": [
    "x"
   ]
  },
  {
   "cell_type": "code",
   "execution_count": 6,
   "id": "8497d360",
   "metadata": {},
   "outputs": [],
   "source": [
    "a , b = 20 , 30"
   ]
  },
  {
   "cell_type": "code",
   "execution_count": 7,
   "id": "11d51c04",
   "metadata": {},
   "outputs": [],
   "source": [
    "c = a + b"
   ]
  },
  {
   "cell_type": "code",
   "execution_count": 8,
   "id": "abba034f",
   "metadata": {},
   "outputs": [
    {
     "data": {
      "text/plain": [
       "50"
      ]
     },
     "execution_count": 8,
     "metadata": {},
     "output_type": "execute_result"
    }
   ],
   "source": [
    "c"
   ]
  },
  {
   "cell_type": "code",
   "execution_count": null,
   "id": "c4152d12",
   "metadata": {},
   "outputs": [],
   "source": []
  }
 ],
 "metadata": {
  "kernelspec": {
   "display_name": "Python 3",
   "language": "python",
   "name": "python3"
  },
  "language_info": {
   "codemirror_mode": {
    "name": "ipython",
    "version": 3
   },
   "file_extension": ".py",
   "mimetype": "text/x-python",
   "name": "python",
   "nbconvert_exporter": "python",
   "pygments_lexer": "ipython3",
   "version": "3.12.1"
  }
 },
 "nbformat": 4,
 "nbformat_minor": 5
}
