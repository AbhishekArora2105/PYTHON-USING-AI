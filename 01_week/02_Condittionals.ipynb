{
 "cells": [
  {
   "cell_type": "code",
   "execution_count": 3,
   "id": "3b538d96",
   "metadata": {},
   "outputs": [],
   "source": [
    "ticket_price = 90\n",
    "wallet = 100 "
   ]
  },
  {
   "cell_type": "code",
   "execution_count": 5,
   "id": "886731b0",
   "metadata": {},
   "outputs": [
    {
     "name": "stdout",
     "output_type": "stream",
     "text": [
      "Hurray 100 rupees are enough to watch a movie.\n"
     ]
    }
   ],
   "source": [
    "if ticket_price <= wallet:\n",
    "    print(f\"Hurray {wallet} rupees are enough to watch a movie.\")\n",
    "else:\n",
    "    print(\"Soryy! You cannot watch a movie.\")"
   ]
  },
  {
   "cell_type": "code",
   "execution_count": 7,
   "id": "0f21c778",
   "metadata": {},
   "outputs": [
    {
     "name": "stdout",
     "output_type": "stream",
     "text": [
      "B\n"
     ]
    }
   ],
   "source": [
    "marks = 61\n",
    "\n",
    "if marks >90:\n",
    "    print(\"A+\")\n",
    "elif marks >80:\n",
    "    print(\"A\")\n",
    "elif marks > 70:\n",
    "    print(\"B+\")\n",
    "elif marks > 60:\n",
    "    print(\"B\")\n",
    "else:\n",
    "    print(\"Failed\")"
   ]
  },
  {
   "cell_type": "code",
   "execution_count": null,
   "id": "b6181f8d",
   "metadata": {},
   "outputs": [],
   "source": []
  }
 ],
 "metadata": {
  "kernelspec": {
   "display_name": "Python 3",
   "language": "python",
   "name": "python3"
  },
  "language_info": {
   "codemirror_mode": {
    "name": "ipython",
    "version": 3
   },
   "file_extension": ".py",
   "mimetype": "text/x-python",
   "name": "python",
   "nbconvert_exporter": "python",
   "pygments_lexer": "ipython3",
   "version": "3.12.1"
  }
 },
 "nbformat": 4,
 "nbformat_minor": 5
}
